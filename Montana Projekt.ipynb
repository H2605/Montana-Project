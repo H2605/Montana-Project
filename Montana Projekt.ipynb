{
 "cells": [
  {
   "cell_type": "markdown",
   "id": "45dc46eb",
   "metadata": {},
   "source": [
    "# A/B testing Library of Montana State University"
   ]
  },
  {
   "cell_type": "markdown",
   "id": "6126a08a",
   "metadata": {},
   "source": [
    "## Exposition"
   ]
  },
  {
   "cell_type": "markdown",
   "id": "3d625ae5",
   "metadata": {},
   "source": [
    "See: https://github.com/H2605/Montana-Project/tree/main/Sources"
   ]
  },
  {
   "cell_type": "markdown",
   "id": "1d0b4900",
   "metadata": {},
   "source": [
    "## Defined metrics"
   ]
  },
  {
   "cell_type": "markdown",
   "id": "e5713a5d",
   "metadata": {},
   "source": [
    "<ins>Click-through rate (CTR) for the homepage.</ins> Defined as the amount of clicks on the button divided by the total visits to the page. Selected as a measure of the initial ability of the category title to attract users.\n",
    "\n",
    "<ins>Drop-off rate for the category pages.</ins> Percentage of visitors who leave the site from a given page, selected as a measure of the ability of the category page to meet user expectations.\n",
    "\n",
    "\n",
    "<ins>Homepage-return rate for the category pages.</ins> Percentage of users who navigated from the library homepage to the category page, then returned back to the homepage. This sequence of actions provides clues as to whether a user discovered the desired option on the category page; if not, the user would likely then return to the homepage to continue navigation. Homepage-return rate was therefore selected as a measure of the ability of the category page to meet user expectations."
   ]
  },
  {
   "cell_type": "markdown",
   "id": "28c54457",
   "metadata": {},
   "source": [
    "## Loading data"
   ]
  },
  {
   "cell_type": "code",
   "execution_count": 6,
   "id": "904c4d26",
   "metadata": {},
   "outputs": [],
   "source": [
    "import pandas as pd\n",
    "from scipy import stats"
   ]
  },
  {
   "cell_type": "code",
   "execution_count": 7,
   "id": "38e073b5",
   "metadata": {},
   "outputs": [],
   "source": [
    "hp_v1 = pd.read_csv('/Users/huyduc/Downloads/CrazyEgg/Homepage Version 1 - Interact, 5-29-2013/Element list Homepage Version 1 - Interact, 5-29-2013.csv')\n",
    "hp_v2 = pd.read_csv('/Users/huyduc/Downloads/CrazyEgg/Homepage Version 2 - Connect, 5-29-2013/Element list Homepage Version 2 - Connect, 5-29-2013.csv')\n",
    "hp_v3 = pd.read_csv('/Users/huyduc/Downloads/CrazyEgg/Homepage Version 3 - Learn, 5-29-2013/Element list Homepage Version 3 - Learn, 5-29-2013.csv')\n",
    "hp_v4 = pd.read_csv('/Users/huyduc/Downloads/CrazyEgg/Homepage Version 4 - Help, 5-29-2013/Element list Homepage Version 4 - Help, 5-29-2013.csv')\n",
    "hp_v5 = pd.read_csv('/Users/huyduc/Downloads/CrazyEgg/Homepage Version 5 - Services, 5-29-2013/Element list Homepage Version 5 - Services, 5-29-2013.csv')"
   ]
  },
  {
   "cell_type": "code",
   "execution_count": 8,
   "id": "45c3ba38",
   "metadata": {},
   "outputs": [
    {
     "data": {
      "text/html": [
       "<div>\n",
       "<style scoped>\n",
       "    .dataframe tbody tr th:only-of-type {\n",
       "        vertical-align: middle;\n",
       "    }\n",
       "\n",
       "    .dataframe tbody tr th {\n",
       "        vertical-align: top;\n",
       "    }\n",
       "\n",
       "    .dataframe thead th {\n",
       "        text-align: right;\n",
       "    }\n",
       "</style>\n",
       "<table border=\"1\" class=\"dataframe\">\n",
       "  <thead>\n",
       "    <tr style=\"text-align: right;\">\n",
       "      <th></th>\n",
       "      <th>Element ID</th>\n",
       "      <th>Tag name</th>\n",
       "      <th>Name</th>\n",
       "      <th>No. clicks</th>\n",
       "      <th>Visible?</th>\n",
       "      <th>Snapshot information</th>\n",
       "    </tr>\n",
       "  </thead>\n",
       "  <tbody>\n",
       "    <tr>\n",
       "      <th>0</th>\n",
       "      <td>128</td>\n",
       "      <td>area</td>\n",
       "      <td>Montana State University - Home</td>\n",
       "      <td>1291</td>\n",
       "      <td>False</td>\n",
       "      <td>Homepage Version 1 - Interact   •   http://www...</td>\n",
       "    </tr>\n",
       "    <tr>\n",
       "      <th>1</th>\n",
       "      <td>69</td>\n",
       "      <td>a</td>\n",
       "      <td>FIND</td>\n",
       "      <td>842</td>\n",
       "      <td>True</td>\n",
       "      <td>created 5-29-2013   •   20 days 4 hours 21 min...</td>\n",
       "    </tr>\n",
       "    <tr>\n",
       "      <th>2</th>\n",
       "      <td>61</td>\n",
       "      <td>input</td>\n",
       "      <td>s.q</td>\n",
       "      <td>508</td>\n",
       "      <td>True</td>\n",
       "      <td>NaN</td>\n",
       "    </tr>\n",
       "    <tr>\n",
       "      <th>3</th>\n",
       "      <td>67</td>\n",
       "      <td>a</td>\n",
       "      <td>lib.montana.edu/find/</td>\n",
       "      <td>166</td>\n",
       "      <td>True</td>\n",
       "      <td>NaN</td>\n",
       "    </tr>\n",
       "    <tr>\n",
       "      <th>4</th>\n",
       "      <td>78</td>\n",
       "      <td>a</td>\n",
       "      <td>REQUEST</td>\n",
       "      <td>151</td>\n",
       "      <td>True</td>\n",
       "      <td>NaN</td>\n",
       "    </tr>\n",
       "  </tbody>\n",
       "</table>\n",
       "</div>"
      ],
      "text/plain": [
       "   Element ID Tag name                             Name  No. clicks  Visible?  \\\n",
       "0         128     area  Montana State University - Home        1291     False   \n",
       "1          69        a                             FIND         842      True   \n",
       "2          61    input                              s.q         508      True   \n",
       "3          67        a            lib.montana.edu/find/         166      True   \n",
       "4          78        a                          REQUEST         151      True   \n",
       "\n",
       "                                Snapshot information  \n",
       "0  Homepage Version 1 - Interact   •   http://www...  \n",
       "1  created 5-29-2013   •   20 days 4 hours 21 min...  \n",
       "2                                                NaN  \n",
       "3                                                NaN  \n",
       "4                                                NaN  "
      ]
     },
     "execution_count": 8,
     "metadata": {},
     "output_type": "execute_result"
    }
   ],
   "source": [
    "hp_v1.head(5)\n",
    "#interact "
   ]
  },
  {
   "cell_type": "code",
   "execution_count": 9,
   "id": "70796b91",
   "metadata": {},
   "outputs": [
    {
     "data": {
      "text/html": [
       "<div>\n",
       "<style scoped>\n",
       "    .dataframe tbody tr th:only-of-type {\n",
       "        vertical-align: middle;\n",
       "    }\n",
       "\n",
       "    .dataframe tbody tr th {\n",
       "        vertical-align: top;\n",
       "    }\n",
       "\n",
       "    .dataframe thead th {\n",
       "        text-align: right;\n",
       "    }\n",
       "</style>\n",
       "<table border=\"1\" class=\"dataframe\">\n",
       "  <thead>\n",
       "    <tr style=\"text-align: right;\">\n",
       "      <th></th>\n",
       "      <th>Element ID</th>\n",
       "      <th>Tag name</th>\n",
       "      <th>Name</th>\n",
       "      <th>No. clicks</th>\n",
       "      <th>Visible?</th>\n",
       "      <th>Snapshot information</th>\n",
       "    </tr>\n",
       "  </thead>\n",
       "  <tbody>\n",
       "    <tr>\n",
       "      <th>0</th>\n",
       "      <td>74</td>\n",
       "      <td>a</td>\n",
       "      <td>FIND</td>\n",
       "      <td>502</td>\n",
       "      <td>True</td>\n",
       "      <td>Homepage Version 2 - Connect   •   http://www....</td>\n",
       "    </tr>\n",
       "    <tr>\n",
       "      <th>1</th>\n",
       "      <td>66</td>\n",
       "      <td>input</td>\n",
       "      <td>s.q</td>\n",
       "      <td>357</td>\n",
       "      <td>True</td>\n",
       "      <td>created 5-29-2013   •   20 days 7 hours 34 min...</td>\n",
       "    </tr>\n",
       "    <tr>\n",
       "      <th>2</th>\n",
       "      <td>72</td>\n",
       "      <td>a</td>\n",
       "      <td>lib.montana.edu/find/</td>\n",
       "      <td>171</td>\n",
       "      <td>True</td>\n",
       "      <td>NaN</td>\n",
       "    </tr>\n",
       "    <tr>\n",
       "      <th>3</th>\n",
       "      <td>133</td>\n",
       "      <td>area</td>\n",
       "      <td>Montana State University Libraries - Home</td>\n",
       "      <td>83</td>\n",
       "      <td>False</td>\n",
       "      <td>NaN</td>\n",
       "    </tr>\n",
       "    <tr>\n",
       "      <th>4</th>\n",
       "      <td>103</td>\n",
       "      <td>a</td>\n",
       "      <td>Hours</td>\n",
       "      <td>74</td>\n",
       "      <td>True</td>\n",
       "      <td>NaN</td>\n",
       "    </tr>\n",
       "  </tbody>\n",
       "</table>\n",
       "</div>"
      ],
      "text/plain": [
       "   Element ID Tag name                                       Name  No. clicks  \\\n",
       "0          74        a                                       FIND         502   \n",
       "1          66    input                                        s.q         357   \n",
       "2          72        a                      lib.montana.edu/find/         171   \n",
       "3         133     area  Montana State University Libraries - Home          83   \n",
       "4         103        a                                      Hours          74   \n",
       "\n",
       "   Visible?                               Snapshot information  \n",
       "0      True  Homepage Version 2 - Connect   •   http://www....  \n",
       "1      True  created 5-29-2013   •   20 days 7 hours 34 min...  \n",
       "2      True                                                NaN  \n",
       "3     False                                                NaN  \n",
       "4      True                                                NaN  "
      ]
     },
     "execution_count": 9,
     "metadata": {},
     "output_type": "execute_result"
    }
   ],
   "source": [
    "hp_v2.head(5)\n",
    "#connect"
   ]
  },
  {
   "cell_type": "code",
   "execution_count": 10,
   "id": "db119174",
   "metadata": {},
   "outputs": [
    {
     "data": {
      "text/html": [
       "<div>\n",
       "<style scoped>\n",
       "    .dataframe tbody tr th:only-of-type {\n",
       "        vertical-align: middle;\n",
       "    }\n",
       "\n",
       "    .dataframe tbody tr th {\n",
       "        vertical-align: top;\n",
       "    }\n",
       "\n",
       "    .dataframe thead th {\n",
       "        text-align: right;\n",
       "    }\n",
       "</style>\n",
       "<table border=\"1\" class=\"dataframe\">\n",
       "  <thead>\n",
       "    <tr style=\"text-align: right;\">\n",
       "      <th></th>\n",
       "      <th>Element ID</th>\n",
       "      <th>Tag name</th>\n",
       "      <th>Name</th>\n",
       "      <th>No. clicks</th>\n",
       "      <th>Visible?</th>\n",
       "      <th>Snapshot information</th>\n",
       "    </tr>\n",
       "  </thead>\n",
       "  <tbody>\n",
       "    <tr>\n",
       "      <th>0</th>\n",
       "      <td>69</td>\n",
       "      <td>a</td>\n",
       "      <td>FIND</td>\n",
       "      <td>587</td>\n",
       "      <td>True</td>\n",
       "      <td>Homepage Version 3 - Learn   •   http://www.li...</td>\n",
       "    </tr>\n",
       "    <tr>\n",
       "      <th>1</th>\n",
       "      <td>61</td>\n",
       "      <td>input</td>\n",
       "      <td>s.q</td>\n",
       "      <td>325</td>\n",
       "      <td>True</td>\n",
       "      <td>created 5-29-2013   •   20 days 12 hours 21 mi...</td>\n",
       "    </tr>\n",
       "    <tr>\n",
       "      <th>2</th>\n",
       "      <td>67</td>\n",
       "      <td>a</td>\n",
       "      <td>lib.montana.edu/find/</td>\n",
       "      <td>142</td>\n",
       "      <td>True</td>\n",
       "      <td>NaN</td>\n",
       "    </tr>\n",
       "    <tr>\n",
       "      <th>3</th>\n",
       "      <td>128</td>\n",
       "      <td>area</td>\n",
       "      <td>Montana State University - Home</td>\n",
       "      <td>83</td>\n",
       "      <td>False</td>\n",
       "      <td>NaN</td>\n",
       "    </tr>\n",
       "    <tr>\n",
       "      <th>4</th>\n",
       "      <td>98</td>\n",
       "      <td>a</td>\n",
       "      <td>Hours</td>\n",
       "      <td>76</td>\n",
       "      <td>True</td>\n",
       "      <td>NaN</td>\n",
       "    </tr>\n",
       "  </tbody>\n",
       "</table>\n",
       "</div>"
      ],
      "text/plain": [
       "   Element ID Tag name                             Name  No. clicks  Visible?  \\\n",
       "0          69        a                             FIND         587      True   \n",
       "1          61    input                              s.q         325      True   \n",
       "2          67        a            lib.montana.edu/find/         142      True   \n",
       "3         128     area  Montana State University - Home          83     False   \n",
       "4          98        a                            Hours          76      True   \n",
       "\n",
       "                                Snapshot information  \n",
       "0  Homepage Version 3 - Learn   •   http://www.li...  \n",
       "1  created 5-29-2013   •   20 days 12 hours 21 mi...  \n",
       "2                                                NaN  \n",
       "3                                                NaN  \n",
       "4                                                NaN  "
      ]
     },
     "execution_count": 10,
     "metadata": {},
     "output_type": "execute_result"
    }
   ],
   "source": [
    "hp_v3.head(5)\n",
    "#learn"
   ]
  },
  {
   "cell_type": "code",
   "execution_count": 11,
   "id": "5f8a5b61",
   "metadata": {},
   "outputs": [
    {
     "data": {
      "text/html": [
       "<div>\n",
       "<style scoped>\n",
       "    .dataframe tbody tr th:only-of-type {\n",
       "        vertical-align: middle;\n",
       "    }\n",
       "\n",
       "    .dataframe tbody tr th {\n",
       "        vertical-align: top;\n",
       "    }\n",
       "\n",
       "    .dataframe thead th {\n",
       "        text-align: right;\n",
       "    }\n",
       "</style>\n",
       "<table border=\"1\" class=\"dataframe\">\n",
       "  <thead>\n",
       "    <tr style=\"text-align: right;\">\n",
       "      <th></th>\n",
       "      <th>Element ID</th>\n",
       "      <th>Tag name</th>\n",
       "      <th>Name</th>\n",
       "      <th>No. clicks</th>\n",
       "      <th>Visible?</th>\n",
       "      <th>Snapshot information</th>\n",
       "    </tr>\n",
       "  </thead>\n",
       "  <tbody>\n",
       "    <tr>\n",
       "      <th>0</th>\n",
       "      <td>74</td>\n",
       "      <td>a</td>\n",
       "      <td>FIND</td>\n",
       "      <td>631</td>\n",
       "      <td>True</td>\n",
       "      <td>Homepage Version 4 - Help   •   http://www.lib...</td>\n",
       "    </tr>\n",
       "    <tr>\n",
       "      <th>1</th>\n",
       "      <td>66</td>\n",
       "      <td>input</td>\n",
       "      <td>s.q</td>\n",
       "      <td>364</td>\n",
       "      <td>True</td>\n",
       "      <td>created 5-29-2013   •   20 days 4 hours 59 min...</td>\n",
       "    </tr>\n",
       "    <tr>\n",
       "      <th>2</th>\n",
       "      <td>72</td>\n",
       "      <td>a</td>\n",
       "      <td>lib.montana.edu/find/</td>\n",
       "      <td>139</td>\n",
       "      <td>True</td>\n",
       "      <td>NaN</td>\n",
       "    </tr>\n",
       "    <tr>\n",
       "      <th>3</th>\n",
       "      <td>133</td>\n",
       "      <td>area</td>\n",
       "      <td>Montana State University - Home</td>\n",
       "      <td>122</td>\n",
       "      <td>False</td>\n",
       "      <td>NaN</td>\n",
       "    </tr>\n",
       "    <tr>\n",
       "      <th>4</th>\n",
       "      <td>83</td>\n",
       "      <td>a</td>\n",
       "      <td>REQUEST</td>\n",
       "      <td>72</td>\n",
       "      <td>True</td>\n",
       "      <td>NaN</td>\n",
       "    </tr>\n",
       "  </tbody>\n",
       "</table>\n",
       "</div>"
      ],
      "text/plain": [
       "   Element ID Tag name                             Name  No. clicks  Visible?  \\\n",
       "0          74        a                             FIND         631      True   \n",
       "1          66    input                              s.q         364      True   \n",
       "2          72        a            lib.montana.edu/find/         139      True   \n",
       "3         133     area  Montana State University - Home         122     False   \n",
       "4          83        a                          REQUEST          72      True   \n",
       "\n",
       "                                Snapshot information  \n",
       "0  Homepage Version 4 - Help   •   http://www.lib...  \n",
       "1  created 5-29-2013   •   20 days 4 hours 59 min...  \n",
       "2                                                NaN  \n",
       "3                                                NaN  \n",
       "4                                                NaN  "
      ]
     },
     "execution_count": 11,
     "metadata": {},
     "output_type": "execute_result"
    }
   ],
   "source": [
    "hp_v4.head(5)\n",
    "#help"
   ]
  },
  {
   "cell_type": "code",
   "execution_count": 12,
   "id": "0ba0d998",
   "metadata": {},
   "outputs": [
    {
     "data": {
      "text/html": [
       "<div>\n",
       "<style scoped>\n",
       "    .dataframe tbody tr th:only-of-type {\n",
       "        vertical-align: middle;\n",
       "    }\n",
       "\n",
       "    .dataframe tbody tr th {\n",
       "        vertical-align: top;\n",
       "    }\n",
       "\n",
       "    .dataframe thead th {\n",
       "        text-align: right;\n",
       "    }\n",
       "</style>\n",
       "<table border=\"1\" class=\"dataframe\">\n",
       "  <thead>\n",
       "    <tr style=\"text-align: right;\">\n",
       "      <th></th>\n",
       "      <th>Element ID</th>\n",
       "      <th>Tag name</th>\n",
       "      <th>Name</th>\n",
       "      <th>No. clicks</th>\n",
       "      <th>Visible?</th>\n",
       "      <th>Snapshot information</th>\n",
       "    </tr>\n",
       "  </thead>\n",
       "  <tbody>\n",
       "    <tr>\n",
       "      <th>0</th>\n",
       "      <td>69</td>\n",
       "      <td>a</td>\n",
       "      <td>FIND</td>\n",
       "      <td>397</td>\n",
       "      <td>True</td>\n",
       "      <td>Homepage Version 5 - Services   •   http://www...</td>\n",
       "    </tr>\n",
       "    <tr>\n",
       "      <th>1</th>\n",
       "      <td>61</td>\n",
       "      <td>input</td>\n",
       "      <td>s.q</td>\n",
       "      <td>323</td>\n",
       "      <td>True</td>\n",
       "      <td>created 5-29-2013   •   20 days 4 hours 59 min...</td>\n",
       "    </tr>\n",
       "    <tr>\n",
       "      <th>2</th>\n",
       "      <td>67</td>\n",
       "      <td>a</td>\n",
       "      <td>lib.montana.edu/find/</td>\n",
       "      <td>106</td>\n",
       "      <td>True</td>\n",
       "      <td>NaN</td>\n",
       "    </tr>\n",
       "    <tr>\n",
       "      <th>3</th>\n",
       "      <td>62</td>\n",
       "      <td>button</td>\n",
       "      <td>Search</td>\n",
       "      <td>85</td>\n",
       "      <td>True</td>\n",
       "      <td>NaN</td>\n",
       "    </tr>\n",
       "    <tr>\n",
       "      <th>4</th>\n",
       "      <td>98</td>\n",
       "      <td>a</td>\n",
       "      <td>Hours</td>\n",
       "      <td>81</td>\n",
       "      <td>True</td>\n",
       "      <td>NaN</td>\n",
       "    </tr>\n",
       "  </tbody>\n",
       "</table>\n",
       "</div>"
      ],
      "text/plain": [
       "   Element ID Tag name                   Name  No. clicks  Visible?  \\\n",
       "0          69        a                   FIND         397      True   \n",
       "1          61    input                    s.q         323      True   \n",
       "2          67        a  lib.montana.edu/find/         106      True   \n",
       "3          62   button                 Search          85      True   \n",
       "4          98        a                  Hours          81      True   \n",
       "\n",
       "                                Snapshot information  \n",
       "0  Homepage Version 5 - Services   •   http://www...  \n",
       "1  created 5-29-2013   •   20 days 4 hours 59 min...  \n",
       "2                                                NaN  \n",
       "3                                                NaN  \n",
       "4                                                NaN  "
      ]
     },
     "execution_count": 12,
     "metadata": {},
     "output_type": "execute_result"
    }
   ],
   "source": [
    "hp_v5.head(5)\n",
    "#services"
   ]
  },
  {
   "cell_type": "markdown",
   "id": "142f18d1",
   "metadata": {},
   "source": [
    "## Calculating the Click-through Rate"
   ]
  },
  {
   "cell_type": "markdown",
   "id": "fb3c995b",
   "metadata": {},
   "source": [
    "To calculate the Click-through Rate, we need to find the amount of clicks and Non-clicks. \n",
    "The clicks for the changed button is provided in the table."
   ]
  },
  {
   "cell_type": "code",
   "execution_count": 13,
   "id": "0db38bde",
   "metadata": {},
   "outputs": [
    {
     "data": {
      "text/html": [
       "<div>\n",
       "<style scoped>\n",
       "    .dataframe tbody tr th:only-of-type {\n",
       "        vertical-align: middle;\n",
       "    }\n",
       "\n",
       "    .dataframe tbody tr th {\n",
       "        vertical-align: top;\n",
       "    }\n",
       "\n",
       "    .dataframe thead th {\n",
       "        text-align: right;\n",
       "    }\n",
       "</style>\n",
       "<table border=\"1\" class=\"dataframe\">\n",
       "  <thead>\n",
       "    <tr style=\"text-align: right;\">\n",
       "      <th></th>\n",
       "      <th>Element ID</th>\n",
       "      <th>Tag name</th>\n",
       "      <th>Name</th>\n",
       "      <th>No. clicks</th>\n",
       "      <th>Visible?</th>\n",
       "      <th>Snapshot information</th>\n",
       "    </tr>\n",
       "  </thead>\n",
       "  <tbody>\n",
       "    <tr>\n",
       "      <th>9</th>\n",
       "      <td>87</td>\n",
       "      <td>a</td>\n",
       "      <td>INTERACT</td>\n",
       "      <td>42</td>\n",
       "      <td>True</td>\n",
       "      <td>NaN</td>\n",
       "    </tr>\n",
       "  </tbody>\n",
       "</table>\n",
       "</div>"
      ],
      "text/plain": [
       "   Element ID Tag name      Name  No. clicks  Visible? Snapshot information\n",
       "9          87        a  INTERACT          42      True                  NaN"
      ]
     },
     "execution_count": 13,
     "metadata": {},
     "output_type": "execute_result"
    }
   ],
   "source": [
    "hp_v1.query(\"Name=='INTERACT'\")\n",
    "#interact "
   ]
  },
  {
   "cell_type": "code",
   "execution_count": 14,
   "id": "84130bd4",
   "metadata": {},
   "outputs": [
    {
     "data": {
      "text/html": [
       "<div>\n",
       "<style scoped>\n",
       "    .dataframe tbody tr th:only-of-type {\n",
       "        vertical-align: middle;\n",
       "    }\n",
       "\n",
       "    .dataframe tbody tr th {\n",
       "        vertical-align: top;\n",
       "    }\n",
       "\n",
       "    .dataframe thead th {\n",
       "        text-align: right;\n",
       "    }\n",
       "</style>\n",
       "<table border=\"1\" class=\"dataframe\">\n",
       "  <thead>\n",
       "    <tr style=\"text-align: right;\">\n",
       "      <th></th>\n",
       "      <th>Element ID</th>\n",
       "      <th>Tag name</th>\n",
       "      <th>Name</th>\n",
       "      <th>No. clicks</th>\n",
       "      <th>Visible?</th>\n",
       "      <th>Snapshot information</th>\n",
       "    </tr>\n",
       "  </thead>\n",
       "  <tbody>\n",
       "    <tr>\n",
       "      <th>6</th>\n",
       "      <td>92</td>\n",
       "      <td>a</td>\n",
       "      <td>CONNECT</td>\n",
       "      <td>53</td>\n",
       "      <td>True</td>\n",
       "      <td>NaN</td>\n",
       "    </tr>\n",
       "  </tbody>\n",
       "</table>\n",
       "</div>"
      ],
      "text/plain": [
       "   Element ID Tag name     Name  No. clicks  Visible? Snapshot information\n",
       "6          92        a  CONNECT          53      True                  NaN"
      ]
     },
     "execution_count": 14,
     "metadata": {},
     "output_type": "execute_result"
    }
   ],
   "source": [
    "hp_v2.query(\"Name=='CONNECT'\")\n",
    "#connect"
   ]
  },
  {
   "cell_type": "code",
   "execution_count": 15,
   "id": "4a4f3ce7",
   "metadata": {},
   "outputs": [
    {
     "data": {
      "text/html": [
       "<div>\n",
       "<style scoped>\n",
       "    .dataframe tbody tr th:only-of-type {\n",
       "        vertical-align: middle;\n",
       "    }\n",
       "\n",
       "    .dataframe tbody tr th {\n",
       "        vertical-align: top;\n",
       "    }\n",
       "\n",
       "    .dataframe thead th {\n",
       "        text-align: right;\n",
       "    }\n",
       "</style>\n",
       "<table border=\"1\" class=\"dataframe\">\n",
       "  <thead>\n",
       "    <tr style=\"text-align: right;\">\n",
       "      <th></th>\n",
       "      <th>Element ID</th>\n",
       "      <th>Tag name</th>\n",
       "      <th>Name</th>\n",
       "      <th>No. clicks</th>\n",
       "      <th>Visible?</th>\n",
       "      <th>Snapshot information</th>\n",
       "    </tr>\n",
       "  </thead>\n",
       "  <tbody>\n",
       "    <tr>\n",
       "      <th>10</th>\n",
       "      <td>87</td>\n",
       "      <td>a</td>\n",
       "      <td>LEARN</td>\n",
       "      <td>21</td>\n",
       "      <td>True</td>\n",
       "      <td>NaN</td>\n",
       "    </tr>\n",
       "  </tbody>\n",
       "</table>\n",
       "</div>"
      ],
      "text/plain": [
       "    Element ID Tag name   Name  No. clicks  Visible? Snapshot information\n",
       "10          87        a  LEARN          21      True                  NaN"
      ]
     },
     "execution_count": 15,
     "metadata": {},
     "output_type": "execute_result"
    }
   ],
   "source": [
    "hp_v3.query(\"Name=='LEARN'\")\n",
    "#learn"
   ]
  },
  {
   "cell_type": "code",
   "execution_count": 16,
   "id": "ba07cb82",
   "metadata": {},
   "outputs": [
    {
     "data": {
      "text/html": [
       "<div>\n",
       "<style scoped>\n",
       "    .dataframe tbody tr th:only-of-type {\n",
       "        vertical-align: middle;\n",
       "    }\n",
       "\n",
       "    .dataframe tbody tr th {\n",
       "        vertical-align: top;\n",
       "    }\n",
       "\n",
       "    .dataframe thead th {\n",
       "        text-align: right;\n",
       "    }\n",
       "</style>\n",
       "<table border=\"1\" class=\"dataframe\">\n",
       "  <thead>\n",
       "    <tr style=\"text-align: right;\">\n",
       "      <th></th>\n",
       "      <th>Element ID</th>\n",
       "      <th>Tag name</th>\n",
       "      <th>Name</th>\n",
       "      <th>No. clicks</th>\n",
       "      <th>Visible?</th>\n",
       "      <th>Snapshot information</th>\n",
       "    </tr>\n",
       "  </thead>\n",
       "  <tbody>\n",
       "    <tr>\n",
       "      <th>7</th>\n",
       "      <td>92</td>\n",
       "      <td>a</td>\n",
       "      <td>HELP</td>\n",
       "      <td>38</td>\n",
       "      <td>True</td>\n",
       "      <td>NaN</td>\n",
       "    </tr>\n",
       "  </tbody>\n",
       "</table>\n",
       "</div>"
      ],
      "text/plain": [
       "   Element ID Tag name  Name  No. clicks  Visible? Snapshot information\n",
       "7          92        a  HELP          38      True                  NaN"
      ]
     },
     "execution_count": 16,
     "metadata": {},
     "output_type": "execute_result"
    }
   ],
   "source": [
    "hp_v4.query(\"Name=='HELP'\")\n",
    "#help"
   ]
  },
  {
   "cell_type": "code",
   "execution_count": 17,
   "id": "a79fd12d",
   "metadata": {},
   "outputs": [
    {
     "data": {
      "text/html": [
       "<div>\n",
       "<style scoped>\n",
       "    .dataframe tbody tr th:only-of-type {\n",
       "        vertical-align: middle;\n",
       "    }\n",
       "\n",
       "    .dataframe tbody tr th {\n",
       "        vertical-align: top;\n",
       "    }\n",
       "\n",
       "    .dataframe thead th {\n",
       "        text-align: right;\n",
       "    }\n",
       "</style>\n",
       "<table border=\"1\" class=\"dataframe\">\n",
       "  <thead>\n",
       "    <tr style=\"text-align: right;\">\n",
       "      <th></th>\n",
       "      <th>Element ID</th>\n",
       "      <th>Tag name</th>\n",
       "      <th>Name</th>\n",
       "      <th>No. clicks</th>\n",
       "      <th>Visible?</th>\n",
       "      <th>Snapshot information</th>\n",
       "    </tr>\n",
       "  </thead>\n",
       "  <tbody>\n",
       "    <tr>\n",
       "      <th>7</th>\n",
       "      <td>87</td>\n",
       "      <td>a</td>\n",
       "      <td>SERVICES</td>\n",
       "      <td>45</td>\n",
       "      <td>True</td>\n",
       "      <td>NaN</td>\n",
       "    </tr>\n",
       "  </tbody>\n",
       "</table>\n",
       "</div>"
      ],
      "text/plain": [
       "   Element ID Tag name      Name  No. clicks  Visible? Snapshot information\n",
       "7          87        a  SERVICES          45      True                  NaN"
      ]
     },
     "execution_count": 17,
     "metadata": {},
     "output_type": "execute_result"
    }
   ],
   "source": [
    "hp_v5.query(\"Name=='SERVICES'\")\n",
    "#services"
   ]
  },
  {
   "cell_type": "markdown",
   "id": "de389a41",
   "metadata": {},
   "source": [
    "For the Non-clicks we substract the amount of visits with the given number of clicks"
   ]
  },
  {
   "cell_type": "code",
   "execution_count": 18,
   "id": "a97f68db",
   "metadata": {},
   "outputs": [],
   "source": [
    "visits_v1=10283\n",
    "visits_v2=2742\n",
    "visits_v3=2747\n",
    "visits_v4=3180\n",
    "visits_v5=2064"
   ]
  },
  {
   "cell_type": "code",
   "execution_count": 19,
   "id": "ce183c9f",
   "metadata": {},
   "outputs": [
    {
     "data": {
      "text/plain": [
       "(10241, 2689, 2726, 3142, 2019)"
      ]
     },
     "execution_count": 19,
     "metadata": {},
     "output_type": "execute_result"
    }
   ],
   "source": [
    "no_cl_1=visits_v1-42\n",
    "no_cl_2=visits_v2-53\n",
    "no_cl_3=visits_v3-21\n",
    "no_cl_4=visits_v4-38\n",
    "no_cl_5=visits_v5-45\n",
    "no_cl_1,no_cl_2,no_cl_3,no_cl_4,no_cl_5"
   ]
  },
  {
   "cell_type": "code",
   "execution_count": 20,
   "id": "1aecdeb9",
   "metadata": {},
   "outputs": [],
   "source": [
    "crt_v1=42/visits_v1\n",
    "crt_v2=53/visits_v2\n",
    "crt_v3=21/visits_v3\n",
    "crt_v4=38/visits_v4\n",
    "crt_v5=45/visits_v4"
   ]
  },
  {
   "cell_type": "code",
   "execution_count": 21,
   "id": "687e7169",
   "metadata": {},
   "outputs": [],
   "source": [
    "crts_1 = [crt_v1,crt_v2,crt_v3,crt_v4,crt_v5]\n",
    "Table_1= pd.DataFrame([crts_1], \n",
    "                 columns = [\"Version 1 (Interact)\", \"Version 2 (Connect)\",\"Version 3 (Learn)\", \"Version 4 (Help)\",\"Version 5 (Services)\"],\n",
    "                 index = [\"Click-through rate\"])"
   ]
  },
  {
   "cell_type": "code",
   "execution_count": 22,
   "id": "bea105b7",
   "metadata": {},
   "outputs": [
    {
     "data": {
      "text/html": [
       "<div>\n",
       "<style scoped>\n",
       "    .dataframe tbody tr th:only-of-type {\n",
       "        vertical-align: middle;\n",
       "    }\n",
       "\n",
       "    .dataframe tbody tr th {\n",
       "        vertical-align: top;\n",
       "    }\n",
       "\n",
       "    .dataframe thead th {\n",
       "        text-align: right;\n",
       "    }\n",
       "</style>\n",
       "<table border=\"1\" class=\"dataframe\">\n",
       "  <thead>\n",
       "    <tr style=\"text-align: right;\">\n",
       "      <th></th>\n",
       "      <th>Version 1 (Interact)</th>\n",
       "      <th>Version 2 (Connect)</th>\n",
       "      <th>Version 3 (Learn)</th>\n",
       "      <th>Version 4 (Help)</th>\n",
       "      <th>Version 5 (Services)</th>\n",
       "    </tr>\n",
       "  </thead>\n",
       "  <tbody>\n",
       "    <tr>\n",
       "      <th>Click-through rate</th>\n",
       "      <td>0.004084</td>\n",
       "      <td>0.019329</td>\n",
       "      <td>0.007645</td>\n",
       "      <td>0.01195</td>\n",
       "      <td>0.014151</td>\n",
       "    </tr>\n",
       "  </tbody>\n",
       "</table>\n",
       "</div>"
      ],
      "text/plain": [
       "                    Version 1 (Interact)  Version 2 (Connect)  \\\n",
       "Click-through rate              0.004084             0.019329   \n",
       "\n",
       "                    Version 3 (Learn)  Version 4 (Help)  Version 5 (Services)  \n",
       "Click-through rate           0.007645           0.01195              0.014151  "
      ]
     },
     "execution_count": 22,
     "metadata": {},
     "output_type": "execute_result"
    }
   ],
   "source": [
    "Table_1"
   ]
  },
  {
   "cell_type": "markdown",
   "id": "905fb4de",
   "metadata": {},
   "source": [
    "Out of the five Homepage versions,  Version 5 (Conncect) has the best Click-trough rate."
   ]
  },
  {
   "cell_type": "markdown",
   "id": "60656300",
   "metadata": {},
   "source": [
    "## Chi Square Test"
   ]
  },
  {
   "cell_type": "markdown",
   "id": "f1490977",
   "metadata": {},
   "source": [
    "Null Hypothesis: \n",
    "The 5 versions of the button are equally likely to receive clicks, and the observed differences are due to chance.\n",
    "\n",
    "Alternative Hypothesis: \n",
    "The observed differences are not due to chance: there are versions of the button that are more likely to receive clicks (i.e. they have a better CTR, a better performance).\n",
    "\n",
    "The desired statistical significance was set at 90%. From this we define alpha as 10%."
   ]
  },
  {
   "cell_type": "code",
   "execution_count": 23,
   "id": "a06fac33",
   "metadata": {},
   "outputs": [],
   "source": [
    "alpha=0.1"
   ]
  },
  {
   "cell_type": "markdown",
   "id": "bd51ca43",
   "metadata": {},
   "source": [
    "### Approach Nr.1"
   ]
  },
  {
   "cell_type": "code",
   "execution_count": 24,
   "id": "4ce7cdfe",
   "metadata": {},
   "outputs": [],
   "source": [
    "\n",
    "clicks_1 = [42,53,21,38,45]\n",
    "non_click_1 = [10241, 2689, 2726, 3142, 2019]"
   ]
  },
  {
   "cell_type": "code",
   "execution_count": 25,
   "id": "d6f2fd93",
   "metadata": {},
   "outputs": [
    {
     "data": {
      "text/html": [
       "<div>\n",
       "<style scoped>\n",
       "    .dataframe tbody tr th:only-of-type {\n",
       "        vertical-align: middle;\n",
       "    }\n",
       "\n",
       "    .dataframe tbody tr th {\n",
       "        vertical-align: top;\n",
       "    }\n",
       "\n",
       "    .dataframe thead th {\n",
       "        text-align: right;\n",
       "    }\n",
       "</style>\n",
       "<table border=\"1\" class=\"dataframe\">\n",
       "  <thead>\n",
       "    <tr style=\"text-align: right;\">\n",
       "      <th></th>\n",
       "      <th>Version 1 (Interact)</th>\n",
       "      <th>Version 2 (Connect)</th>\n",
       "      <th>Version 3 (Learn)</th>\n",
       "      <th>Version 4 (Help)</th>\n",
       "      <th>Version 5 (Services)</th>\n",
       "    </tr>\n",
       "  </thead>\n",
       "  <tbody>\n",
       "    <tr>\n",
       "      <th>Clicks</th>\n",
       "      <td>42</td>\n",
       "      <td>53</td>\n",
       "      <td>21</td>\n",
       "      <td>38</td>\n",
       "      <td>45</td>\n",
       "    </tr>\n",
       "    <tr>\n",
       "      <th>No-Click</th>\n",
       "      <td>10241</td>\n",
       "      <td>2689</td>\n",
       "      <td>2726</td>\n",
       "      <td>3142</td>\n",
       "      <td>2019</td>\n",
       "    </tr>\n",
       "  </tbody>\n",
       "</table>\n",
       "</div>"
      ],
      "text/plain": [
       "          Version 1 (Interact)  Version 2 (Connect)  Version 3 (Learn)  \\\n",
       "Clicks                      42                   53                 21   \n",
       "No-Click                 10241                 2689               2726   \n",
       "\n",
       "          Version 4 (Help)  Version 5 (Services)  \n",
       "Clicks                  38                    45  \n",
       "No-Click              3142                  2019  "
      ]
     },
     "execution_count": 25,
     "metadata": {},
     "output_type": "execute_result"
    }
   ],
   "source": [
    "obs_1= pd.DataFrame([clicks_1,non_click_1], \n",
    "                 columns = [\"Version 1 (Interact)\", \"Version 2 (Connect)\",\"Version 3 (Learn)\", \"Version 4 (Help)\",\"Version 5 (Services)\"],\n",
    "                 index = [\"Clicks\",\"No-Click\"])\n",
    "obs_1"
   ]
  },
  {
   "cell_type": "code",
   "execution_count": 26,
   "id": "33c6ddbe",
   "metadata": {},
   "outputs": [
    {
     "data": {
      "text/plain": [
       "(96.7432, 0.0, 4)"
      ]
     },
     "execution_count": 26,
     "metadata": {},
     "output_type": "execute_result"
    }
   ],
   "source": [
    "test_statistic_mt_1, p_value_mt_1, df_mt_1, expected_mt_1 = stats.chi2_contingency(obs_1)\n",
    "test_statistic_mt_1.round(4), p_value_mt_1.round(4), df_mt_1"
   ]
  },
  {
   "cell_type": "code",
   "execution_count": 27,
   "id": "4d6a0cee",
   "metadata": {},
   "outputs": [
    {
     "name": "stdout",
     "output_type": "stream",
     "text": [
      "Start Approach Nr.2\n"
     ]
    }
   ],
   "source": [
    "if p_value_mt_1 > alpha:\n",
    "  print('Do not reject the Null Hypothesis.')\n",
    "else:\n",
    "  print('Start Approach Nr.2')"
   ]
  },
  {
   "cell_type": "markdown",
   "id": "44acf70f",
   "metadata": {},
   "source": [
    "As the p-Value is still lower than given α, we kick out Version 1 (Interact) since it has the worst performance of the remaining three versions"
   ]
  },
  {
   "cell_type": "markdown",
   "id": "00a3dea3",
   "metadata": {},
   "source": [
    "### Approach Nr.2"
   ]
  },
  {
   "cell_type": "code",
   "execution_count": 28,
   "id": "bda4e073",
   "metadata": {},
   "outputs": [
    {
     "data": {
      "text/html": [
       "<div>\n",
       "<style scoped>\n",
       "    .dataframe tbody tr th:only-of-type {\n",
       "        vertical-align: middle;\n",
       "    }\n",
       "\n",
       "    .dataframe tbody tr th {\n",
       "        vertical-align: top;\n",
       "    }\n",
       "\n",
       "    .dataframe thead th {\n",
       "        text-align: right;\n",
       "    }\n",
       "</style>\n",
       "<table border=\"1\" class=\"dataframe\">\n",
       "  <thead>\n",
       "    <tr style=\"text-align: right;\">\n",
       "      <th></th>\n",
       "      <th>Version 2 (Connect)</th>\n",
       "      <th>Version 3 (Learn)</th>\n",
       "      <th>Version 4 (Help)</th>\n",
       "      <th>Version 5 (Services)</th>\n",
       "    </tr>\n",
       "  </thead>\n",
       "  <tbody>\n",
       "    <tr>\n",
       "      <th>Click-through rate</th>\n",
       "      <td>0.019329</td>\n",
       "      <td>0.007645</td>\n",
       "      <td>0.01195</td>\n",
       "      <td>0.014151</td>\n",
       "    </tr>\n",
       "  </tbody>\n",
       "</table>\n",
       "</div>"
      ],
      "text/plain": [
       "                    Version 2 (Connect)  Version 3 (Learn)  Version 4 (Help)  \\\n",
       "Click-through rate             0.019329           0.007645           0.01195   \n",
       "\n",
       "                    Version 5 (Services)  \n",
       "Click-through rate              0.014151  "
      ]
     },
     "execution_count": 28,
     "metadata": {},
     "output_type": "execute_result"
    }
   ],
   "source": [
    "crts_2 = [crt_v2,crt_v3,crt_v4,crt_v5]\n",
    "Table_2= pd.DataFrame([crts_2], \n",
    "                 columns = [ \"Version 2 (Connect)\",\"Version 3 (Learn)\", \"Version 4 (Help)\",\"Version 5 (Services)\"],\n",
    "                 index = [\"Click-through rate\"])\n",
    "Table_2"
   ]
  },
  {
   "cell_type": "code",
   "execution_count": 29,
   "id": "d48325de",
   "metadata": {},
   "outputs": [
    {
     "data": {
      "text/html": [
       "<div>\n",
       "<style scoped>\n",
       "    .dataframe tbody tr th:only-of-type {\n",
       "        vertical-align: middle;\n",
       "    }\n",
       "\n",
       "    .dataframe tbody tr th {\n",
       "        vertical-align: top;\n",
       "    }\n",
       "\n",
       "    .dataframe thead th {\n",
       "        text-align: right;\n",
       "    }\n",
       "</style>\n",
       "<table border=\"1\" class=\"dataframe\">\n",
       "  <thead>\n",
       "    <tr style=\"text-align: right;\">\n",
       "      <th></th>\n",
       "      <th>Version 2 (Connect)</th>\n",
       "      <th>Version 3 (Learn)</th>\n",
       "      <th>Version 4 (Help)</th>\n",
       "      <th>Version 5 (Services)</th>\n",
       "    </tr>\n",
       "  </thead>\n",
       "  <tbody>\n",
       "    <tr>\n",
       "      <th>Clicks</th>\n",
       "      <td>53</td>\n",
       "      <td>21</td>\n",
       "      <td>38</td>\n",
       "      <td>45</td>\n",
       "    </tr>\n",
       "    <tr>\n",
       "      <th>No-Click</th>\n",
       "      <td>2689</td>\n",
       "      <td>2726</td>\n",
       "      <td>3142</td>\n",
       "      <td>2019</td>\n",
       "    </tr>\n",
       "  </tbody>\n",
       "</table>\n",
       "</div>"
      ],
      "text/plain": [
       "          Version 2 (Connect)  Version 3 (Learn)  Version 4 (Help)  \\\n",
       "Clicks                     53                 21                38   \n",
       "No-Click                 2689               2726              3142   \n",
       "\n",
       "          Version 5 (Services)  \n",
       "Clicks                      45  \n",
       "No-Click                  2019  "
      ]
     },
     "execution_count": 29,
     "metadata": {},
     "output_type": "execute_result"
    }
   ],
   "source": [
    "clicks_2 = [53,21,38,45]\n",
    "non_click_2 = [2689, 2726, 3142, 2019]\n",
    "obs_2= pd.DataFrame([clicks_2,non_click_2], \n",
    "                 columns = [\"Version 2 (Connect)\",\"Version 3 (Learn)\", \"Version 4 (Help)\",\"Version 5 (Services)\"],\n",
    "                 index = [\"Clicks\",\"No-Click\"])\n",
    "obs_2"
   ]
  },
  {
   "cell_type": "code",
   "execution_count": 30,
   "id": "c19bae8b",
   "metadata": {},
   "outputs": [
    {
     "data": {
      "text/plain": [
       "(22.451, 0.0001, 3)"
      ]
     },
     "execution_count": 30,
     "metadata": {},
     "output_type": "execute_result"
    }
   ],
   "source": [
    "test_statistic_mt_2,p_value_mt_2,df_mt_2,expected_mt_2=stats.chi2_contingency(obs_2)\n",
    "test_statistic_mt_2.round(4),p_value_mt_2.round(4),df_mt_2"
   ]
  },
  {
   "cell_type": "code",
   "execution_count": 31,
   "id": "09d3f2c2",
   "metadata": {
    "scrolled": true
   },
   "outputs": [
    {
     "name": "stdout",
     "output_type": "stream",
     "text": [
      "Start Approach Nr.3\n"
     ]
    }
   ],
   "source": [
    "if p_value_mt_2 > alpha:\n",
    "  print('Do not reject the Null Hypothesis.')\n",
    "else:\n",
    "  print('Start Approach Nr.3')"
   ]
  },
  {
   "cell_type": "markdown",
   "id": "d871a5f4",
   "metadata": {},
   "source": [
    "### Approach Nr.3"
   ]
  },
  {
   "cell_type": "markdown",
   "id": "21f1e809",
   "metadata": {},
   "source": [
    "As the p-Value is still lower than given α, we kick out Version 3(Learn) since it has the worst performance of the remaining three versions"
   ]
  },
  {
   "cell_type": "code",
   "execution_count": 32,
   "id": "1ccc848b",
   "metadata": {},
   "outputs": [
    {
     "data": {
      "text/html": [
       "<div>\n",
       "<style scoped>\n",
       "    .dataframe tbody tr th:only-of-type {\n",
       "        vertical-align: middle;\n",
       "    }\n",
       "\n",
       "    .dataframe tbody tr th {\n",
       "        vertical-align: top;\n",
       "    }\n",
       "\n",
       "    .dataframe thead th {\n",
       "        text-align: right;\n",
       "    }\n",
       "</style>\n",
       "<table border=\"1\" class=\"dataframe\">\n",
       "  <thead>\n",
       "    <tr style=\"text-align: right;\">\n",
       "      <th></th>\n",
       "      <th>Version 2 (Connect)</th>\n",
       "      <th>Version 4 (Help)</th>\n",
       "      <th>Version 5 (Services)</th>\n",
       "    </tr>\n",
       "  </thead>\n",
       "  <tbody>\n",
       "    <tr>\n",
       "      <th>Clicks</th>\n",
       "      <td>53</td>\n",
       "      <td>38</td>\n",
       "      <td>45</td>\n",
       "    </tr>\n",
       "    <tr>\n",
       "      <th>No-Click</th>\n",
       "      <td>2689</td>\n",
       "      <td>3142</td>\n",
       "      <td>2019</td>\n",
       "    </tr>\n",
       "  </tbody>\n",
       "</table>\n",
       "</div>"
      ],
      "text/plain": [
       "          Version 2 (Connect)  Version 4 (Help)  Version 5 (Services)\n",
       "Clicks                     53                38                    45\n",
       "No-Click                 2689              3142                  2019"
      ]
     },
     "execution_count": 32,
     "metadata": {},
     "output_type": "execute_result"
    }
   ],
   "source": [
    "#Approach nr3 \n",
    "clicks_3 = [53,38,45]\n",
    "non_click_3 = [2689, 3142, 2019]\n",
    "obs_3= pd.DataFrame([clicks_3,non_click_3], \n",
    "                 columns = [\"Version 2 (Connect)\", \"Version 4 (Help)\",\"Version 5 (Services)\"],\n",
    "                 index = [\"Clicks\",\"No-Click\"])\n",
    "obs_3"
   ]
  },
  {
   "cell_type": "code",
   "execution_count": 33,
   "id": "e3cc4040",
   "metadata": {},
   "outputs": [],
   "source": [
    "test_statistic_mt_3, p_value_mt_3, df_mt_3, expected_mt_3 = stats.chi2_contingency(obs_3)"
   ]
  },
  {
   "cell_type": "code",
   "execution_count": 34,
   "id": "c85490d6",
   "metadata": {},
   "outputs": [
    {
     "data": {
      "text/plain": [
       "(8.5768, 0.0137, 2)"
      ]
     },
     "execution_count": 34,
     "metadata": {},
     "output_type": "execute_result"
    }
   ],
   "source": [
    "test_statistic_mt_3.round(4),p_value_mt_3.round(4),df_mt_3"
   ]
  },
  {
   "cell_type": "code",
   "execution_count": 35,
   "id": "748cfef3",
   "metadata": {},
   "outputs": [
    {
     "name": "stdout",
     "output_type": "stream",
     "text": [
      "Start Approach Nr 4\n"
     ]
    }
   ],
   "source": [
    "if p_value_mt_3 > alpha:\n",
    "  print('Do not reject the Null Hypothesis.')\n",
    "else:\n",
    "  print('Start Approach Nr 4')"
   ]
  },
  {
   "cell_type": "markdown",
   "id": "1df71903",
   "metadata": {},
   "source": [
    "### Approach Nr.4"
   ]
  },
  {
   "cell_type": "markdown",
   "id": "1c1d2664",
   "metadata": {},
   "source": [
    "As the p-Value is still lower than given α, we kick out Version 4 (Help) since it has the worst performance of the remaining three versions"
   ]
  },
  {
   "cell_type": "code",
   "execution_count": 36,
   "id": "a8a556b2",
   "metadata": {},
   "outputs": [
    {
     "data": {
      "text/html": [
       "<div>\n",
       "<style scoped>\n",
       "    .dataframe tbody tr th:only-of-type {\n",
       "        vertical-align: middle;\n",
       "    }\n",
       "\n",
       "    .dataframe tbody tr th {\n",
       "        vertical-align: top;\n",
       "    }\n",
       "\n",
       "    .dataframe thead th {\n",
       "        text-align: right;\n",
       "    }\n",
       "</style>\n",
       "<table border=\"1\" class=\"dataframe\">\n",
       "  <thead>\n",
       "    <tr style=\"text-align: right;\">\n",
       "      <th></th>\n",
       "      <th>Version 2 (Connect)</th>\n",
       "      <th>Version 5 (Services)</th>\n",
       "    </tr>\n",
       "  </thead>\n",
       "  <tbody>\n",
       "    <tr>\n",
       "      <th>Clicks</th>\n",
       "      <td>53</td>\n",
       "      <td>45</td>\n",
       "    </tr>\n",
       "    <tr>\n",
       "      <th>No-Click</th>\n",
       "      <td>2689</td>\n",
       "      <td>2019</td>\n",
       "    </tr>\n",
       "  </tbody>\n",
       "</table>\n",
       "</div>"
      ],
      "text/plain": [
       "          Version 2 (Connect)  Version 5 (Services)\n",
       "Clicks                     53                    45\n",
       "No-Click                 2689                  2019"
      ]
     },
     "execution_count": 36,
     "metadata": {},
     "output_type": "execute_result"
    }
   ],
   "source": [
    "clicks_4 = [53,45]\n",
    "non_click_4 = [2689, 2019]\n",
    "obs_4= pd.DataFrame([clicks_4,non_click_4], \n",
    "                 columns = [\"Version 2 (Connect)\",\"Version 5 (Services)\"],\n",
    "                 index = [\"Clicks\",\"No-Click\"])\n",
    "obs_4"
   ]
  },
  {
   "cell_type": "code",
   "execution_count": 37,
   "id": "c161bfbd",
   "metadata": {},
   "outputs": [
    {
     "data": {
      "text/html": [
       "<div>\n",
       "<style scoped>\n",
       "    .dataframe tbody tr th:only-of-type {\n",
       "        vertical-align: middle;\n",
       "    }\n",
       "\n",
       "    .dataframe tbody tr th {\n",
       "        vertical-align: top;\n",
       "    }\n",
       "\n",
       "    .dataframe thead th {\n",
       "        text-align: right;\n",
       "    }\n",
       "</style>\n",
       "<table border=\"1\" class=\"dataframe\">\n",
       "  <thead>\n",
       "    <tr style=\"text-align: right;\">\n",
       "      <th></th>\n",
       "      <th>Version 2 (Connect)</th>\n",
       "      <th>Version 5 (Services)</th>\n",
       "    </tr>\n",
       "  </thead>\n",
       "  <tbody>\n",
       "    <tr>\n",
       "      <th>Click-through rate</th>\n",
       "      <td>0.019329</td>\n",
       "      <td>0.014151</td>\n",
       "    </tr>\n",
       "  </tbody>\n",
       "</table>\n",
       "</div>"
      ],
      "text/plain": [
       "                    Version 2 (Connect)  Version 5 (Services)\n",
       "Click-through rate             0.019329              0.014151"
      ]
     },
     "execution_count": 37,
     "metadata": {},
     "output_type": "execute_result"
    }
   ],
   "source": [
    "crts_4 = [crt_v2,crt_v5]\n",
    "Table_4= pd.DataFrame([crts_4], \n",
    "                 columns = [ \"Version 2 (Connect)\",\"Version 5 (Services)\"],\n",
    "                 index = [\"Click-through rate\"])\n",
    "Table_4"
   ]
  },
  {
   "cell_type": "code",
   "execution_count": 38,
   "id": "4c70238a",
   "metadata": {},
   "outputs": [],
   "source": [
    "test_statistic_mt_4, p_value_mt_4, df_mt_4, expected_mt_4 = stats.chi2_contingency(obs_4)"
   ]
  },
  {
   "cell_type": "code",
   "execution_count": 39,
   "id": "7db6cef4",
   "metadata": {},
   "outputs": [
    {
     "data": {
      "text/plain": [
       "(0.2474, 0.6189, 1)"
      ]
     },
     "execution_count": 39,
     "metadata": {},
     "output_type": "execute_result"
    }
   ],
   "source": [
    "test_statistic_mt_4.round(4),p_value_mt_4.round(4),df_mt_4"
   ]
  },
  {
   "cell_type": "code",
   "execution_count": 41,
   "id": "37add9fd",
   "metadata": {},
   "outputs": [
    {
     "name": "stdout",
     "output_type": "stream",
     "text": [
      "Do not reject the Null Hypothesis.\n"
     ]
    }
   ],
   "source": [
    "if p_value_mt_4 > alpha:\n",
    "  print('Do not reject the Null Hypothesis.')\n",
    "else:\n",
    "  print('Start Approach Nr 4')"
   ]
  },
  {
   "cell_type": "markdown",
   "id": "0c317e57",
   "metadata": {},
   "source": [
    "In approach Nr. 4 the p-Value is higher than the significance level α, which leads to not rejecting the Null Hypothesis. As result of that we have to decide between the Version 2 (Connect) and Version 5 (Service).\n",
    "\n",
    "In addition to that, we were provided with information regarding the metrics Drop-off Rate and Homepage-return Rate. \n",
    "\n",
    "The bar chart show, that the Drop-off and Homepage-return Rates for Version 2 (Connect) are significantly higher than for Version 5 (Services).\n",
    "Reference: https://platform.wbscodingschool.com/courses/data-science/10968/"
   ]
  },
  {
   "cell_type": "markdown",
   "id": "97dd5909",
   "metadata": {},
   "source": [
    "## Interpret the data "
   ]
  },
  {
   "cell_type": "markdown",
   "id": "713b7476",
   "metadata": {},
   "source": [
    "Given that, in our opinion, the metric drop off rate is clearer and leaves less room for interpretation than the homepage return rate, we conclude the University should choose Homepage Version 2 (Connect).\n"
   ]
  },
  {
   "cell_type": "markdown",
   "id": "61a882a0",
   "metadata": {},
   "source": [
    "Sample solution: https://drive.google.com/file/d/1h8ZG8gZtFChCdDqccuvy2987sefU8JI_/view?usp=sharing"
   ]
  },
  {
   "cell_type": "markdown",
   "id": "035f17e2",
   "metadata": {},
   "source": []
  }
 ],
 "metadata": {
  "kernelspec": {
   "display_name": "Python 3 (ipykernel)",
   "language": "python",
   "name": "python3"
  },
  "language_info": {
   "codemirror_mode": {
    "name": "ipython",
    "version": 3
   },
   "file_extension": ".py",
   "mimetype": "text/x-python",
   "name": "python",
   "nbconvert_exporter": "python",
   "pygments_lexer": "ipython3",
   "version": "3.9.12"
  }
 },
 "nbformat": 4,
 "nbformat_minor": 5
}
